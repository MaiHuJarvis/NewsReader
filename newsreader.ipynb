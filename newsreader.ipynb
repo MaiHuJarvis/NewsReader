{
 "cells": [
  {
   "cell_type": "code",
   "execution_count": 1,
   "metadata": {},
   "outputs": [],
   "source": [
    "import requests#for sending the requests\n",
    "import bs4#for parsing the result\n",
    "import pyttsx3#for speech result"
   ]
  },
  {
   "cell_type": "code",
   "execution_count": 5,
   "metadata": {},
   "outputs": [],
   "source": [
    "#speak function \n",
    "def speak(msg):\n",
    "    engine = pyttsx3.init('sapi5')\n",
    "    engine.say(msg,\"en-in\")\n",
    "    engine.runAndWait()\n",
    "speak(\"welcome to the news reader program\")"
   ]
  },
  {
   "cell_type": "code",
   "execution_count": null,
   "metadata": {},
   "outputs": [],
   "source": [
    "url = \"https://www.hindustantimes.com/\"\n",
    "\n",
    "response=requests.get(url)\n",
    "response"
   ]
  },
  {
   "cell_type": "code",
   "execution_count": null,
   "metadata": {},
   "outputs": [],
   "source": [
    "soup=bs4.BeautifulSoup(response.text,'html.parser')\n",
    "soup.prettify"
   ]
  },
  {
   "cell_type": "code",
   "execution_count": null,
   "metadata": {},
   "outputs": [],
   "source": [
    "def detail_news(link):\n",
    "    #sending the request \n",
    "    temp_res=requests.get(link)\n",
    "    #parsing the response\n",
    "    temp_soup=bs4.BeautifulSoup(temp_res.text,'html.parser')\n",
    "    temp_soup.prettify\n",
    "    temp=temp_soup.text.replace(\"'\\'\",'').replace(\"\\t\",\" \").replace('\\n',',').replace('\\r','')\n",
    "    try:\n",
    "        #extracting the main content of the news\n",
    "        temp1=temp[temp.find('\"articleBody\":')+14:temp.find('\"author\":')-5]\n",
    "        print(temp1)\n",
    "        #reading the news\n",
    "        speak(str(temp1).replace('&nbsp;',' ').replace('&rdquo',' ').replace('&ldquo;',' ').replace('&rsquo;',' ').replace('&lsquo;',' ')+\",  \")\n",
    "        print(\"reached\")\n",
    "    except Exception as e:\n",
    "        speak(\"Some error has occured while reading this news\")"
   ]
  },
  {
   "cell_type": "code",
   "execution_count": null,
   "metadata": {
    "scrolled": false
   },
   "outputs": [],
   "source": [
    "#headlines of the news and its main link\n",
    "for h in soup.find_all('div',attrs={'class':'subhead4'}):\n",
    "    #printing the headline\n",
    "    print(h.h2.a.text)\n",
    "    link=h.h2.a.get('href')\n",
    "    #printing the news article link\n",
    "    print(link)\n",
    "    #reading the headline\n",
    "    speak(h.h2.a.text)\n",
    "    #detailed news\n",
    "    detail_news(link)\n",
    "    print(\"\\n\")"
   ]
  },
  {
   "cell_type": "code",
   "execution_count": null,
   "metadata": {},
   "outputs": [],
   "source": []
  }
 ],
 "metadata": {
  "kernelspec": {
   "display_name": "Python 3",
   "language": "python",
   "name": "python3"
  },
  "language_info": {
   "codemirror_mode": {
    "name": "ipython",
    "version": 3
   },
   "file_extension": ".py",
   "mimetype": "text/x-python",
   "name": "python",
   "nbconvert_exporter": "python",
   "pygments_lexer": "ipython3",
   "version": "3.7.6"
  }
 },
 "nbformat": 4,
 "nbformat_minor": 4
}
